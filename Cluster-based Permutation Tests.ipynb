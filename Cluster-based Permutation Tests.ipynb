{
 "cells": [
  {
   "cell_type": "code",
   "execution_count": 1,
   "metadata": {},
   "outputs": [],
   "source": [
    "%matplotlib qt5\n",
    "\n",
    "import matplotlib.pyplot as plt\n",
    "import numpy as np\n",
    "import mne\n",
    "import os\n",
    "import random\n",
    "\n",
    "from mne import io, preprocessing\n",
    "from mne.stats import permutation_cluster_test"
   ]
  },
  {
   "cell_type": "code",
   "execution_count": 7,
   "metadata": {},
   "outputs": [],
   "source": [
    "data_path = os.path.join(os.getcwd(), 'processed_epochs')\n",
    "tmin = -0.2 # start of each epoch (400ms before the trigger)\n",
    "tmax = 1 # end of each epoch (1000ms after the trigger)\n",
    "threshold = 4\n",
    "\n",
    "mne.set_log_level('ERROR')"
   ]
  },
  {
   "cell_type": "code",
   "execution_count": 8,
   "metadata": {},
   "outputs": [
    {
     "name": "stdout",
     "output_type": "stream",
     "text": [
      "['990291-epo.fif', '382733-epo.fif', '477819-epo.fif', '554432_2-epo.fif', '477819_2-epo.fif', '382733_2-epo.fif', '554432-epo.fif', '884723-epo.fif', '884723_2-epo.fif', '990291_2-epo.fif', '928376_2-epo.fif', '928376-epo.fif']\n"
     ]
    }
   ],
   "source": [
    "files = []\n",
    "for f in os.listdir(data_path):\n",
    "    if f.endswith('.fif'):\n",
    "        files.append(f)\n",
    "print(files)"
   ]
  },
  {
   "cell_type": "code",
   "execution_count": 12,
   "metadata": {},
   "outputs": [
    {
     "name": "stderr",
     "output_type": "stream",
     "text": [
      "<ipython-input-12-948a6fbc4739>:21: RuntimeWarning: No clusters found, returning empty H0, clusters, and cluster_pv\n",
      "  threshold=threshold, tail=1, n_jobs=1)\n",
      "<ipython-input-12-948a6fbc4739>:21: RuntimeWarning: No clusters found, returning empty H0, clusters, and cluster_pv\n",
      "  threshold=threshold, tail=1, n_jobs=1)\n",
      "<ipython-input-12-948a6fbc4739>:21: RuntimeWarning: No clusters found, returning empty H0, clusters, and cluster_pv\n",
      "  threshold=threshold, tail=1, n_jobs=1)\n",
      "<ipython-input-12-948a6fbc4739>:21: RuntimeWarning: No clusters found, returning empty H0, clusters, and cluster_pv\n",
      "  threshold=threshold, tail=1, n_jobs=1)\n",
      "<ipython-input-12-948a6fbc4739>:21: RuntimeWarning: No clusters found, returning empty H0, clusters, and cluster_pv\n",
      "  threshold=threshold, tail=1, n_jobs=1)\n",
      "<ipython-input-12-948a6fbc4739>:21: RuntimeWarning: Provided stat_fun does not treat variables independently. Setting buffer_size to None.\n",
      "  threshold=threshold, tail=1, n_jobs=1)\n",
      "<ipython-input-12-948a6fbc4739>:21: RuntimeWarning: No clusters found, returning empty H0, clusters, and cluster_pv\n",
      "  threshold=threshold, tail=1, n_jobs=1)\n",
      "<ipython-input-12-948a6fbc4739>:21: RuntimeWarning: No clusters found, returning empty H0, clusters, and cluster_pv\n",
      "  threshold=threshold, tail=1, n_jobs=1)\n",
      "<ipython-input-12-948a6fbc4739>:21: RuntimeWarning: No clusters found, returning empty H0, clusters, and cluster_pv\n",
      "  threshold=threshold, tail=1, n_jobs=1)\n",
      "<ipython-input-12-948a6fbc4739>:21: RuntimeWarning: No clusters found, returning empty H0, clusters, and cluster_pv\n",
      "  threshold=threshold, tail=1, n_jobs=1)\n",
      "<ipython-input-12-948a6fbc4739>:21: RuntimeWarning: Provided stat_fun does not treat variables independently. Setting buffer_size to None.\n",
      "  threshold=threshold, tail=1, n_jobs=1)\n",
      "<ipython-input-12-948a6fbc4739>:21: RuntimeWarning: No clusters found, returning empty H0, clusters, and cluster_pv\n",
      "  threshold=threshold, tail=1, n_jobs=1)\n",
      "<ipython-input-12-948a6fbc4739>:21: RuntimeWarning: No clusters found, returning empty H0, clusters, and cluster_pv\n",
      "  threshold=threshold, tail=1, n_jobs=1)\n",
      "<ipython-input-12-948a6fbc4739>:21: RuntimeWarning: No clusters found, returning empty H0, clusters, and cluster_pv\n",
      "  threshold=threshold, tail=1, n_jobs=1)\n",
      "<ipython-input-12-948a6fbc4739>:21: RuntimeWarning: No clusters found, returning empty H0, clusters, and cluster_pv\n",
      "  threshold=threshold, tail=1, n_jobs=1)\n",
      "<ipython-input-12-948a6fbc4739>:21: RuntimeWarning: Provided stat_fun does not treat variables independently. Setting buffer_size to None.\n",
      "  threshold=threshold, tail=1, n_jobs=1)\n",
      "<ipython-input-12-948a6fbc4739>:21: RuntimeWarning: No clusters found, returning empty H0, clusters, and cluster_pv\n",
      "  threshold=threshold, tail=1, n_jobs=1)\n",
      "<ipython-input-12-948a6fbc4739>:21: RuntimeWarning: Provided stat_fun does not treat variables independently. Setting buffer_size to None.\n",
      "  threshold=threshold, tail=1, n_jobs=1)\n",
      "<ipython-input-12-948a6fbc4739>:21: RuntimeWarning: No clusters found, returning empty H0, clusters, and cluster_pv\n",
      "  threshold=threshold, tail=1, n_jobs=1)\n",
      "<ipython-input-12-948a6fbc4739>:21: RuntimeWarning: Provided stat_fun does not treat variables independently. Setting buffer_size to None.\n",
      "  threshold=threshold, tail=1, n_jobs=1)\n",
      "<ipython-input-12-948a6fbc4739>:21: RuntimeWarning: No clusters found, returning empty H0, clusters, and cluster_pv\n",
      "  threshold=threshold, tail=1, n_jobs=1)\n",
      "<ipython-input-12-948a6fbc4739>:21: RuntimeWarning: Provided stat_fun does not treat variables independently. Setting buffer_size to None.\n",
      "  threshold=threshold, tail=1, n_jobs=1)\n",
      "<ipython-input-12-948a6fbc4739>:21: RuntimeWarning: No clusters found, returning empty H0, clusters, and cluster_pv\n",
      "  threshold=threshold, tail=1, n_jobs=1)\n",
      "<ipython-input-12-948a6fbc4739>:21: RuntimeWarning: Provided stat_fun does not treat variables independently. Setting buffer_size to None.\n",
      "  threshold=threshold, tail=1, n_jobs=1)\n",
      "<ipython-input-12-948a6fbc4739>:21: RuntimeWarning: No clusters found, returning empty H0, clusters, and cluster_pv\n",
      "  threshold=threshold, tail=1, n_jobs=1)\n",
      "<ipython-input-12-948a6fbc4739>:21: RuntimeWarning: Provided stat_fun does not treat variables independently. Setting buffer_size to None.\n",
      "  threshold=threshold, tail=1, n_jobs=1)\n",
      "<ipython-input-12-948a6fbc4739>:21: RuntimeWarning: No clusters found, returning empty H0, clusters, and cluster_pv\n",
      "  threshold=threshold, tail=1, n_jobs=1)\n",
      "<ipython-input-12-948a6fbc4739>:21: RuntimeWarning: No clusters found, returning empty H0, clusters, and cluster_pv\n",
      "  threshold=threshold, tail=1, n_jobs=1)\n",
      "<ipython-input-12-948a6fbc4739>:21: RuntimeWarning: Provided stat_fun does not treat variables independently. Setting buffer_size to None.\n",
      "  threshold=threshold, tail=1, n_jobs=1)\n",
      "<ipython-input-12-948a6fbc4739>:21: RuntimeWarning: No clusters found, returning empty H0, clusters, and cluster_pv\n",
      "  threshold=threshold, tail=1, n_jobs=1)\n",
      "<ipython-input-12-948a6fbc4739>:21: RuntimeWarning: No clusters found, returning empty H0, clusters, and cluster_pv\n",
      "  threshold=threshold, tail=1, n_jobs=1)\n",
      "<ipython-input-12-948a6fbc4739>:21: RuntimeWarning: Provided stat_fun does not treat variables independently. Setting buffer_size to None.\n",
      "  threshold=threshold, tail=1, n_jobs=1)\n",
      "<ipython-input-12-948a6fbc4739>:21: RuntimeWarning: No clusters found, returning empty H0, clusters, and cluster_pv\n",
      "  threshold=threshold, tail=1, n_jobs=1)\n",
      "<ipython-input-12-948a6fbc4739>:21: RuntimeWarning: No clusters found, returning empty H0, clusters, and cluster_pv\n",
      "  threshold=threshold, tail=1, n_jobs=1)\n",
      "<ipython-input-12-948a6fbc4739>:21: RuntimeWarning: No clusters found, returning empty H0, clusters, and cluster_pv\n",
      "  threshold=threshold, tail=1, n_jobs=1)\n",
      "<ipython-input-12-948a6fbc4739>:21: RuntimeWarning: Provided stat_fun does not treat variables independently. Setting buffer_size to None.\n",
      "  threshold=threshold, tail=1, n_jobs=1)\n",
      "<ipython-input-12-948a6fbc4739>:21: RuntimeWarning: No clusters found, returning empty H0, clusters, and cluster_pv\n",
      "  threshold=threshold, tail=1, n_jobs=1)\n",
      "<ipython-input-12-948a6fbc4739>:21: RuntimeWarning: No clusters found, returning empty H0, clusters, and cluster_pv\n",
      "  threshold=threshold, tail=1, n_jobs=1)\n"
     ]
    },
    {
     "name": "stdout",
     "output_type": "stream",
     "text": [
      "total: 375\n"
     ]
    }
   ],
   "source": [
    "count = 0\n",
    "results = []\n",
    "for file in files:\n",
    "    epochs = mne.read_epochs(data_path + f'/{file}')\n",
    "    events = [*epochs.event_id.keys()]\n",
    "    for i in range(len(events)-1):\n",
    "        for j in range(i+1, len(events)):\n",
    "            first = events[i]\n",
    "            epochs1 = epochs[first]\n",
    "            condition1 = epochs1.get_data()  # as 3D matrix\n",
    "            \n",
    "            second = events[j]\n",
    "            epochs2 = epochs[second]\n",
    "            condition2 = epochs2.get_data()  # as 3D matrix\n",
    "\n",
    "            condition1 = condition1[:, 0, :]  # take only one channel to get a 2D array\n",
    "            condition2 = condition2[:, 0, :]  # take only one channel to get a 2D array\n",
    "\n",
    "            T_obs, clusters, cluster_p_values, H0 = \\\n",
    "                permutation_cluster_test([condition1, condition2], n_permutations=1000,\n",
    "                                         threshold=threshold, tail=1, n_jobs=1)            \n",
    "            count += 1\n",
    "\n",
    "            for i_c, c in enumerate(clusters):\n",
    "                c = c[0]\n",
    "                if cluster_p_values[i_c] < 0.05:\n",
    "                    results.append(f'{file}: condition1 = {first}, condition2 = {second}, p-value: {cluster_p_values[i_c]}')\n",
    "print(f'total: {count}')\n",
    "                    "
   ]
  },
  {
   "cell_type": "code",
   "execution_count": 13,
   "metadata": {},
   "outputs": [
    {
     "name": "stdout",
     "output_type": "stream",
     "text": [
      "382733-epo.fif: condition1 = Finnish Conf, condition2 = Favourite Match, p-value: 0.09\n",
      "382733-epo.fif: condition1 = Neutrals, condition2 = Favourite Match, p-value: 0.089\n",
      "382733-epo.fif: condition1 = Neutrals, condition2 = Favourite Match, p-value: 0.089\n",
      "382733-epo.fif: condition1 = Neutrals, condition2 = Favourite Match, p-value: 0.089\n",
      "477819-epo.fif: condition1 = Foreing Match, condition2 = Foreing Conf, p-value: 0.032\n",
      "554432_2-epo.fif: condition1 = Finnish Match, condition2 = Dislike Conf, p-value: 0.08\n",
      "554432_2-epo.fif: condition1 = Foreing Conf, condition2 = Neutrals, p-value: 0.078\n",
      "477819_2-epo.fif: condition1 = Finnish Match, condition2 = Finnish Conf, p-value: 0.002\n",
      "477819_2-epo.fif: condition1 = Finnish Match, condition2 = Foreing Conf, p-value: 0.092\n",
      "477819_2-epo.fif: condition1 = Finnish Match, condition2 = Favourite Match, p-value: 0.044\n",
      "477819_2-epo.fif: condition1 = Finnish Match, condition2 = Unknowns, p-value: 0.04\n",
      "477819_2-epo.fif: condition1 = Finnish Conf, condition2 = Favourite Match, p-value: 0.037\n",
      "477819_2-epo.fif: condition1 = Finnish Conf, condition2 = Favourite Conf, p-value: 0.019\n",
      "477819_2-epo.fif: condition1 = Foreing Conf, condition2 = Favourite Match, p-value: 0.025\n",
      "477819_2-epo.fif: condition1 = Foreing Conf, condition2 = Favourite Conf, p-value: 0.05\n",
      "477819_2-epo.fif: condition1 = Favourite Conf, condition2 = Unknowns, p-value: 0.011\n",
      "554432-epo.fif: condition1 = Finnish Match, condition2 = Dislike Conf, p-value: 0.087\n",
      "554432-epo.fif: condition1 = Finnish Match, condition2 = Unknowns, p-value: 0.065\n",
      "554432-epo.fif: condition1 = Finnish Conf, condition2 = Unknowns, p-value: 0.099\n",
      "554432-epo.fif: condition1 = Foreing Match, condition2 = Foreing Conf, p-value: 0.087\n",
      "554432-epo.fif: condition1 = Foreing Match, condition2 = Favourite Match, p-value: 0.045\n",
      "554432-epo.fif: condition1 = Foreing Match, condition2 = Dislike Conf, p-value: 0.061\n",
      "554432-epo.fif: condition1 = Foreing Conf, condition2 = Unknowns, p-value: 0.015\n",
      "884723-epo.fif: condition1 = Finnish Match, condition2 = Foreing Conf, p-value: 0.071\n",
      "884723-epo.fif: condition1 = Finnish Match, condition2 = Unknowns, p-value: 0.051\n",
      "990291_2-epo.fif: condition1 = Foreing Conf, condition2 = Dislike Match, p-value: 0.076\n",
      "928376_2-epo.fif: condition1 = Favourite Match, condition2 = Unknowns, p-value: 0.086\n"
     ]
    }
   ],
   "source": [
    "for r in results:\n",
    "    print(r)"
   ]
  },
  {
   "cell_type": "code",
   "execution_count": 27,
   "metadata": {},
   "outputs": [],
   "source": [
    "\n",
    "epochs = mne.read_epochs(data_path + '/477819-epo.fif')\n",
    "first = 'Foreing Match'\n",
    "second = 'Foreing Conf'\n",
    "\n",
    "epochs1 = epochs[first]\n",
    "condition1 = epochs1.get_data()  # as 3D matrix\n",
    "\n",
    "# matching\n",
    "epochs2 = epochs[second]\n",
    "condition2 = epochs2.get_data()  # as 3D matrix\n",
    "\n",
    "condition1 = condition1[:, 0, :]  # take only one channel to get a 2D array\n",
    "condition2 = condition2[:, 0, :]  # take only one channel to get a 2D array\n",
    "\n",
    "T_obs, clusters, cluster_p_values, H0 = \\\n",
    "    permutation_cluster_test([condition1, condition2], n_permutations=1000,\n",
    "                             threshold=threshold, tail=1, n_jobs=1)       "
   ]
  },
  {
   "cell_type": "code",
   "execution_count": 28,
   "metadata": {},
   "outputs": [],
   "source": [
    "times = epochs1.times\n",
    "plt.close('all')\n",
    "plt.subplot(211)\n",
    "plt.title(f'{first} vs. {second}')\n",
    "plt.plot(times, condition1.mean(axis=0) - condition2.mean(axis=0),\n",
    "         label=f'ERF Contrast ({first} - {second})')\n",
    "plt.ylabel(\"MEG (T / m)\")\n",
    "plt.legend()\n",
    "plt.subplot(212)\n",
    "for i_c, c in enumerate(clusters):\n",
    "    c = c[0]\n",
    "    if cluster_p_values[i_c] <= 0.1:\n",
    "        h = plt.axvspan(times[c.start], times[c.stop - 1],\n",
    "                        color='r', alpha=0.3)\n",
    "#     else:\n",
    "#         plt.axvspan(times[c.start], times[c.stop - 1], color=(0.3, 0.3, 0.3),\n",
    "#                     alpha=0.3)\n",
    "hf = plt.plot(times, T_obs, 'g')\n",
    "plt.legend((h, ), ('cluster p-value < 0.05', ))\n",
    "plt.xlabel(\"time (ms)\")\n",
    "plt.ylabel(\"f-values\")\n",
    "plt.show()"
   ]
  },
  {
   "cell_type": "code",
   "execution_count": null,
   "metadata": {},
   "outputs": [],
   "source": []
  },
  {
   "cell_type": "code",
   "execution_count": null,
   "metadata": {},
   "outputs": [],
   "source": []
  }
 ],
 "metadata": {
  "kernelspec": {
   "display_name": "Python 3",
   "language": "python",
   "name": "python3"
  },
  "language_info": {
   "codemirror_mode": {
    "name": "ipython",
    "version": 3
   },
   "file_extension": ".py",
   "mimetype": "text/x-python",
   "name": "python",
   "nbconvert_exporter": "python",
   "pygments_lexer": "ipython3",
   "version": "3.6.8"
  }
 },
 "nbformat": 4,
 "nbformat_minor": 2
}
