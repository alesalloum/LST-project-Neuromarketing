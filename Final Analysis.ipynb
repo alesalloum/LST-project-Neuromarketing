{
 "cells": [
  {
   "cell_type": "code",
   "execution_count": 1,
   "metadata": {},
   "outputs": [],
   "source": [
    "# Import relevant libaries\n",
    "%matplotlib qt5 \n",
    "\n",
    "import mne\n",
    "import os\n",
    "from mne.preprocessing import ICA\n",
    "from mne.preprocessing import create_eog_epochs, create_ecg_epochs\n",
    "import matplotlib.pyplot as plt\n",
    "import numpy as np\n",
    "import pandas as pd"
   ]
  },
  {
   "cell_type": "code",
   "execution_count": 2,
   "metadata": {},
   "outputs": [
    {
     "name": "stdout",
     "output_type": "stream",
     "text": [
      "['382733.vhdr', '382733_2.vhdr', '477819.vhdr', '477819_2.vhdr', '554432.vhdr', '554432_2.vhdr', '884723.vhdr', '884723_2.vhdr', '928376.vhdr', '928376_2.vhdr', '990291.vhdr', '990291_2.vhdr']\n",
      "['382733.vhdr', '382733_2.vhdr']\n"
     ]
    }
   ],
   "source": [
    "vhdr_files = ['382733.vhdr', '382733_2.vhdr', '477819.vhdr', '477819_2.vhdr', '554432.vhdr', '554432_2.vhdr', '884723.vhdr', '884723_2.vhdr', '928376.vhdr', '928376_2.vhdr', '990291.vhdr', '990291_2.vhdr']\n",
    "print(vhdr_files)\n",
    "temp_list = vhdr_files[0:2]\n",
    "print(temp_list)"
   ]
  },
  {
   "cell_type": "code",
   "execution_count": 3,
   "metadata": {},
   "outputs": [
    {
     "name": "stdout",
     "output_type": "stream",
     "text": [
      "382733.vhdr\n",
      "Reading data/epochs/processed_epochs/382733-epo.fif ...\n",
      "    Found the data of interest:\n",
      "        t =    -200.00 ...     700.00 ms\n",
      "        0 CTF compensation matrices available\n",
      "120 matching events found\n",
      "Applying baseline correction (mode: mean)\n",
      "120 matching events found\n",
      "Applying baseline correction (mode: mean)\n",
      "Not setting metadata\n",
      "0 projection items activated\n",
      "<EpochsFIF  |   120 events (all good), -0.2 - 0.7 sec, baseline [-0.2, 0], ~26.5 MB, data loaded,\n",
      " 'Dislike Conf': 2\n",
      " 'Favourite Conf': 1\n",
      " 'Favourite Match': 1\n",
      " 'Finnish Conf': 24\n",
      " 'Finnish Match': 25\n",
      " 'Foreing Conf': 22\n",
      " 'Foreing Match': 27\n",
      " 'Neutrals': 10\n",
      " 'Unknowns': 8>\n"
     ]
    }
   ],
   "source": [
    "filename = temp_list[0]\n",
    "print(filename)\n",
    "\n",
    "if filename[6] == '.':\n",
    "    epochs_EN = mne.read_epochs('data/epochs/processed_epochs/' + filename[:6] + '-epo.fif')\n",
    "else:\n",
    "    epochs_EN = mne.read_epochs('data/epochs/processed_epochs/' + filename[:8] + '-epo.fif')\n",
    "print(epochs_EN)"
   ]
  },
  {
   "cell_type": "code",
   "execution_count": 4,
   "metadata": {},
   "outputs": [
    {
     "name": "stdout",
     "output_type": "stream",
     "text": [
      "382733_2.vhdr\n",
      "Reading data/epochs/processed_epochs/382733_2-epo.fif ...\n",
      "    Found the data of interest:\n",
      "        t =    -200.00 ...     700.00 ms\n",
      "        0 CTF compensation matrices available\n",
      "120 matching events found\n",
      "Applying baseline correction (mode: mean)\n",
      "120 matching events found\n",
      "Applying baseline correction (mode: mean)\n",
      "Not setting metadata\n",
      "0 projection items activated\n",
      "<EpochsFIF  |   120 events (all good), -0.2 - 0.7 sec, baseline [-0.2, 0], ~26.5 MB, data loaded,\n",
      " 'Dislike Conf': 1\n",
      " 'Dislike Match': 1\n",
      " 'Favourite Conf': 1\n",
      " 'Favourite Match': 1\n",
      " 'Finnish Conf': 23\n",
      " 'Finnish Match': 27\n",
      " 'Foreing Conf': 25\n",
      " 'Foreing Match': 23\n",
      " 'Neutrals': 10\n",
      " 'Unknowns': 8>\n"
     ]
    }
   ],
   "source": [
    "filename = temp_list[1]\n",
    "print(filename)\n",
    "\n",
    "if filename[6] == '.':\n",
    "    epochs_FIN = mne.read_epochs('data/epochs/processed_epochs/' + filename[:6] + '-epo.fif')\n",
    "else:\n",
    "    epochs_FIN = mne.read_epochs('data/epochs/processed_epochs/' + filename[:8] + '-epo.fif')\n",
    "print(epochs_FIN)"
   ]
  },
  {
   "cell_type": "code",
   "execution_count": 5,
   "metadata": {},
   "outputs": [
    {
     "name": "stdout",
     "output_type": "stream",
     "text": [
      "[<Evoked  |  'Finnish Match' (mean, N=25), [-0.2, 0.7] sec, 32 ch, ~311 kB>, <Evoked  |  'Finnish Conf' (mean, N=24), [-0.2, 0.7] sec, 32 ch, ~311 kB>, <Evoked  |  'Foreing Match' (mean, N=27), [-0.2, 0.7] sec, 32 ch, ~311 kB>, <Evoked  |  'Foreing Conf' (mean, N=22), [-0.2, 0.7] sec, 32 ch, ~311 kB>]\n",
      "[<Evoked  |  'Finnish Match' (mean, N=27), [-0.2, 0.7] sec, 32 ch, ~311 kB>, <Evoked  |  'Finnish Conf' (mean, N=23), [-0.2, 0.7] sec, 32 ch, ~311 kB>, <Evoked  |  'Foreing Match' (mean, N=23), [-0.2, 0.7] sec, 32 ch, ~311 kB>, <Evoked  |  'Foreing Conf' (mean, N=25), [-0.2, 0.7] sec, 32 ch, ~311 kB>]\n"
     ]
    }
   ],
   "source": [
    "# Lets study Finnish Match / Conf and Foreing Match / Conf\n",
    "finmatc = epochs_EN['Finnish Match'].average()\n",
    "finconf = epochs_EN['Finnish Conf'].average()\n",
    "formatc = epochs_EN['Foreing Match'].average()\n",
    "forconf = epochs_EN['Foreing Conf'].average()\n",
    "\n",
    "all_evokeds_EN = [finmatc, finconf, formatc, forconf]\n",
    "\n",
    "finmatc = epochs_EN['Finnish Match']\n",
    "finconf = epochs_EN['Finnish Conf']\n",
    "formatc = epochs_EN['Foreing Match']\n",
    "forconf = epochs_EN['Foreing Conf']\n",
    "all_epochs_EN = [finmatc, finconf, formatc, forconf]\n",
    "print(all_evokeds_EN)\n",
    "\n",
    "# Lets study Finnish Match / Conf and Foreing Match / Conf\n",
    "finmatc = epochs_FIN['Finnish Match'].average()\n",
    "finconf = epochs_FIN['Finnish Conf'].average()\n",
    "formatc = epochs_FIN['Foreing Match'].average()\n",
    "forconf = epochs_FIN['Foreing Conf'].average()\n",
    "\n",
    "all_evokeds_FIN = [finmatc, finconf, formatc, forconf]\n",
    "\n",
    "finmatc = epochs_FIN['Finnish Match']\n",
    "finconf = epochs_FIN['Finnish Conf']\n",
    "formatc = epochs_FIN['Foreing Match']\n",
    "forconf = epochs_FIN['Foreing Conf']\n",
    "all_epochs_FIN = [finmatc, finconf, formatc, forconf]\n",
    "print(all_evokeds_FIN)"
   ]
  },
  {
   "cell_type": "code",
   "execution_count": 42,
   "metadata": {},
   "outputs": [],
   "source": [
    "# FINNISH MATCH VS ENGLISH MATCH?\n",
    "\n",
    "suomeksi_FINMAT_gfp = np.sum(all_evokeds_FIN[0].data ** 2, axis=0)\n",
    "#suomeksi_FINMAT_gfp = mne.baseline.rescale(suomeksi_FINMAT_gfp, all_evokeds_FIN[0].times * 1e3, baseline=(None, 0))\n",
    "\n",
    "suomeksi_FORMAT_gfp = np.sum(all_evokeds_FIN[2].data ** 2, axis=0)\n",
    "#englanniksi_FINMAT_gfp = mne.baseline.rescale(englanniksi_FINMAT_gfp, all_evokeds_FIN[0].times * 1e3, baseline=(None, 0))"
   ]
  },
  {
   "cell_type": "code",
   "execution_count": 43,
   "metadata": {},
   "outputs": [],
   "source": [
    "import matplotlib.pyplot as plt\n",
    "from scipy import stats\n",
    "import seaborn as sns\n",
    "from sklearn.utils import resample\n",
    "\n",
    "combined = np.concatenate((suomeksi_FINMAT_gfp, suomeksi_FORMAT_gfp), axis=0)\n",
    "\n",
    "perms_FMAT = []\n",
    "perms_EMAT = []\n",
    "\n",
    "for i in range(10000):\n",
    "    np.random.seed(i)\n",
    "    perms_FMAT.append(resample(combined, n_samples = len(suomeksi_FINMAT_gfp)))\n",
    "    perms_EMAT.append(resample(combined, n_samples = len(suomeksi_FORMAT_gfp)))\n",
    "    \n",
    "dif_bootstrap_means = (np.mean(perms_FMAT, axis=1)-np.mean(perms_EMAT, axis=1))\n",
    "\n",
    "fig = plt.figure(figsize=(10,3))\n",
    "ax = plt.hist(dif_bootstrap_means, bins=40)\n",
    "\n",
    "plt.xlabel('Mean difference in terms of GFP')\n",
    "plt.ylabel('Frequency')\n",
    "plt.title('Bootstrapped Population (Combined data)')\n",
    "plt.show()"
   ]
  },
  {
   "cell_type": "code",
   "execution_count": 44,
   "metadata": {},
   "outputs": [],
   "source": [
    "plt.plot(all_evokeds_FIN[0].times * 1e3, suomeksi_FINMAT_gfp)\n",
    "plt.plot(all_evokeds_FIN[2].times * 1e3, suomeksi_FORMAT_gfp)\n",
    "plt.show()"
   ]
  },
  {
   "cell_type": "code",
   "execution_count": 40,
   "metadata": {},
   "outputs": [
    {
     "name": "stdout",
     "output_type": "stream",
     "text": [
      "observed difference in means: -3.9738766911620236e-10\n",
      "p-value: 1.0\n"
     ]
    }
   ],
   "source": [
    "obs_difs = (np.mean(suomeksi_FINMAT_gfp) - np.mean(suomeksi_FORMAT_gfp))\n",
    "print('observed difference in means: {}'.format(obs_difs))\n",
    "\n",
    "p_value = dif_bootstrap_means[dif_bootstrap_means >= obs_difs].shape[0]/10000\n",
    "print('p-value: {}'.format(p_value))"
   ]
  },
  {
   "cell_type": "code",
   "execution_count": 41,
   "metadata": {},
   "outputs": [
    {
     "data": {
      "text/plain": [
       "(array([2.000e+00, 2.100e+01, 1.880e+02, 9.340e+02, 2.444e+03, 3.147e+03,\n",
       "        2.296e+03, 7.740e+02, 1.730e+02, 2.100e+01]),\n",
       " array([7.56049295e-10, 7.77888406e-10, 7.99727517e-10, 8.21566628e-10,\n",
       "        8.43405739e-10, 8.65244850e-10, 8.87083961e-10, 9.08923072e-10,\n",
       "        9.30762184e-10, 9.52601295e-10, 9.74440406e-10]),\n",
       " <a list of 10 Patch objects>)"
      ]
     },
     "execution_count": 41,
     "metadata": {},
     "output_type": "execute_result"
    }
   ],
   "source": [
    "FMAT_gfp_bootstrap = []\n",
    "for i in range(10000):\n",
    "    np.random.seed(i)\n",
    "    FMAT_gfp_bootstrap.append((resample(suomeksi_FINMAT_gfp)))\n",
    "\n",
    "FMAT_gfp_bootstrap = np.mean(FMAT_gfp_bootstrap, axis=1)\n",
    "plt.hist(FMAT_gfp_bootstrap)\n",
    "\n",
    "EMAT_gfp_bootstrap = []\n",
    "for i in range(10000):\n",
    "    np.random.seed(i)\n",
    "    EMAT_gfp_bootstrap.append((resample(englanniksi_FINMAT_gfp)))\n",
    "\n",
    "EMAT_gfp_bootstrap = np.mean(EMAT_gfp_bootstrap, axis=1)\n",
    "plt.hist(EMAT_gfp_bootstrap)"
   ]
  },
  {
   "cell_type": "code",
   "execution_count": null,
   "metadata": {},
   "outputs": [],
   "source": []
  }
 ],
 "metadata": {
  "kernelspec": {
   "display_name": "Python 3",
   "language": "python",
   "name": "python3"
  },
  "language_info": {
   "codemirror_mode": {
    "name": "ipython",
    "version": 3
   },
   "file_extension": ".py",
   "mimetype": "text/x-python",
   "name": "python",
   "nbconvert_exporter": "python",
   "pygments_lexer": "ipython3",
   "version": "3.6.6"
  }
 },
 "nbformat": 4,
 "nbformat_minor": 2
}
